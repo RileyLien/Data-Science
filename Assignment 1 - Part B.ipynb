{
 "cells": [
  {
   "cell_type": "markdown",
   "metadata": {},
   "source": [
    "# Part B: Analysing CSV Data\n",
    "\n",
    "<font size = \"3\">It has eight parts of this task, and they are including the import pyspark, initialize Spark, create dataframe, write to mongodb database, calculating the statistics of numeric and string column, changing the data type, data analysis and visulize the data.</font>"
   ]
  },
  {
   "cell_type": "markdown",
   "metadata": {},
   "source": [
    "## Step 01: Import pyspark and initialize Spark"
   ]
  },
  {
   "cell_type": "code",
   "execution_count": 1,
   "metadata": {},
   "outputs": [],
   "source": [
    "import os\n",
    "os.environ['PYSPARK_SUBMIT_ARGS'] = '--packages org.mongodb.spark:mongo-spark-connector_2.11:2.4.0 pyspark-shell'\n",
    "# create entry points to spark\n",
    "from pyspark import SparkContext # Spark\n",
    "from pyspark.sql import SparkSession # Spark SQL\n",
    "\n",
    "# We add this line to avoid an error : \"Cannot run multiple SparkContexts at once\". \n",
    "# If there is an existing spark context, we will reuse it instead of creating a new context.\n",
    "sc = SparkContext.getOrCreate()\n",
    "\n",
    "# local[*]: run Spark locally with as many working processors as logical cores on your machine.\n",
    "# In the field of `master`, we use a local server with as many working processors (or threads) as possible (i.e. `local[*]`). \n",
    "# If we want Spark to run locally with 'k' worker threads, we can specify as `local[k]`.\n",
    "# The `appName` field is a name to be shown on the Sparking cluster UI. \n",
    "    \n",
    "# If there is no existing spark context, we now create a new context\n",
    "if (sc is None):\n",
    "    sc = SparkContext(master=\"local[*]\")\n",
    "crime_spark = SparkSession(sparkContext=sc)\\\n",
    "    .builder \\\n",
    "    .appName(\"Analysing_Criminal_Data\") \\\n",
    "    .config(\"spark.mongodb.input.uri\", \"mongodb://127.0.0.1/criminal_db.analysing\") \\\n",
    "    .config(\"spark.mongodb.output.uri\", \"mongodb://127.0.0.1/criminal_db.analysing\") \\\n",
    "    .getOrCreate()"
   ]
  },
  {
   "cell_type": "markdown",
   "metadata": {},
   "source": [
    "## Step 02: Create Dataframe"
   ]
  },
  {
   "cell_type": "code",
   "execution_count": 2,
   "metadata": {},
   "outputs": [
    {
     "name": "stdout",
     "output_type": "stream",
     "text": [
      "It has 727408 records in the dataframe\n"
     ]
    }
   ],
   "source": [
    "# Create Dataframe and display how many records are there in the dataframe\n",
    "\n",
    "crime_df = crime_spark.read.csv('Crime_Statistics_SA_2010_present.csv', header=True, inferSchema=True) #creating the dataframe\n",
    "print(\"It has {0} records in the dataframe\".format(crime_df.count())) #showing the records in the data frame"
   ]
  },
  {
   "cell_type": "code",
   "execution_count": 3,
   "metadata": {},
   "outputs": [
    {
     "name": "stdout",
     "output_type": "stream",
     "text": [
      "It has 726921 rows in the data frame which exclude the null value data\n"
     ]
    },
    {
     "data": {
      "text/plain": [
       "[Row(Reported Date='1/07/2010', Suburb - Incident='ADELAIDE', Postcode - Incident='5000', Offence Level 1 Description='OFFENCES AGAINST PROPERTY', Offence Level 2 Description='FRAUD DECEPTION AND RELATED OFFENCES', Offence Level 3 Description='Obtain benefit by deception', Offence Count=2),\n",
       " Row(Reported Date='1/07/2010', Suburb - Incident='ADELAIDE', Postcode - Incident='5000', Offence Level 1 Description='OFFENCES AGAINST PROPERTY', Offence Level 2 Description='PROPERTY DAMAGE AND ENVIRONMENTAL', Offence Level 3 Description='Other property damage and environmental', Offence Count=2),\n",
       " Row(Reported Date='1/07/2010', Suburb - Incident='ADELAIDE', Postcode - Incident='5000', Offence Level 1 Description='OFFENCES AGAINST PROPERTY', Offence Level 2 Description='SERIOUS CRIMINAL TRESPASS', Offence Level 3 Description='SCT - Non Residence', Offence Count=1),\n",
       " Row(Reported Date='1/07/2010', Suburb - Incident='ADELAIDE', Postcode - Incident='5000', Offence Level 1 Description='OFFENCES AGAINST PROPERTY', Offence Level 2 Description='THEFT AND RELATED OFFENCES', Offence Level 3 Description='Other theft', Offence Count=6),\n",
       " Row(Reported Date='1/07/2010', Suburb - Incident='ADELAIDE', Postcode - Incident='5000', Offence Level 1 Description='OFFENCES AGAINST PROPERTY', Offence Level 2 Description='THEFT AND RELATED OFFENCES', Offence Level 3 Description='Theft from shop', Offence Count=3),\n",
       " Row(Reported Date='1/07/2010', Suburb - Incident='ADELAIDE', Postcode - Incident='5000', Offence Level 1 Description='OFFENCES AGAINST THE PERSON', Offence Level 2 Description='ACTS INTENDED TO CAUSE INJURY', Offence Level 3 Description='Common Assault', Offence Count=2),\n",
       " Row(Reported Date='1/07/2010', Suburb - Incident='ALBERTON', Postcode - Incident='5014', Offence Level 1 Description='OFFENCES AGAINST PROPERTY', Offence Level 2 Description='PROPERTY DAMAGE AND ENVIRONMENTAL', Offence Level 3 Description='Other property damage and environmental', Offence Count=1),\n",
       " Row(Reported Date='1/07/2010', Suburb - Incident='ALDGATE', Postcode - Incident='5154', Offence Level 1 Description='OFFENCES AGAINST PROPERTY', Offence Level 2 Description='THEFT AND RELATED OFFENCES', Offence Level 3 Description='Other theft', Offence Count=1),\n",
       " Row(Reported Date='1/07/2010', Suburb - Incident='ALFORD', Postcode - Incident='5555', Offence Level 1 Description='OFFENCES AGAINST PROPERTY', Offence Level 2 Description='THEFT AND RELATED OFFENCES', Offence Level 3 Description='Other theft', Offence Count=1),\n",
       " Row(Reported Date='1/07/2010', Suburb - Incident='AMATA', Postcode - Incident='5724', Offence Level 1 Description='OFFENCES AGAINST PROPERTY', Offence Level 2 Description='PROPERTY DAMAGE AND ENVIRONMENTAL', Offence Level 3 Description='Property damage by fire or explosion', Offence Count=1)]"
      ]
     },
     "execution_count": 3,
     "metadata": {},
     "output_type": "execute_result"
    }
   ],
   "source": [
    "nonNullCrimedf = crime_df.na.drop() #drop the null value in the data frame\n",
    "print(\"It has {0} rows in the data frame which exclude the null value data\".format(nonNullCrimedf.count())) #count how many number of rows in the data frame\n",
    "nonNullCrimedf.take(10) #show the first ten rows data"
   ]
  },
  {
   "cell_type": "markdown",
   "metadata": {},
   "source": [
    "## Step 03: Write to Database"
   ]
  },
  {
   "cell_type": "code",
   "execution_count": 4,
   "metadata": {},
   "outputs": [],
   "source": [
    "#Write the data into the Database (Mongodb)\n",
    "nonNullCrimedf.write.format(\"com.mongodb.spark.sql.DefaultSource\").mode(\"overwrite\").save()"
   ]
  },
  {
   "cell_type": "markdown",
   "metadata": {},
   "source": [
    "## Step 04: Read from Database"
   ]
  },
  {
   "cell_type": "code",
   "execution_count": 5,
   "metadata": {},
   "outputs": [
    {
     "name": "stdout",
     "output_type": "stream",
     "text": [
      "+-------------+---------------------------+------------------------------------+---------------------------------------+-------------------+-------------+-----------------+--------------------------+\n",
      "|Offence Count|Offence Level 1 Description|Offence Level 2 Description         |Offence Level 3 Description            |Postcode - Incident|Reported Date|Suburb - Incident|_id                       |\n",
      "+-------------+---------------------------+------------------------------------+---------------------------------------+-------------------+-------------+-----------------+--------------------------+\n",
      "|2            |OFFENCES AGAINST PROPERTY  |FRAUD DECEPTION AND RELATED OFFENCES|Obtain benefit by deception            |5000               |1/07/2010    |ADELAIDE         |[5d71d7733a10c20c5ef44b86]|\n",
      "|2            |OFFENCES AGAINST PROPERTY  |PROPERTY DAMAGE AND ENVIRONMENTAL   |Other property damage and environmental|5000               |1/07/2010    |ADELAIDE         |[5d71d7733a10c20c5ef44b87]|\n",
      "|1            |OFFENCES AGAINST PROPERTY  |SERIOUS CRIMINAL TRESPASS           |SCT - Non Residence                    |5000               |1/07/2010    |ADELAIDE         |[5d71d7733a10c20c5ef44b88]|\n",
      "|6            |OFFENCES AGAINST PROPERTY  |THEFT AND RELATED OFFENCES          |Other theft                            |5000               |1/07/2010    |ADELAIDE         |[5d71d7733a10c20c5ef44b89]|\n",
      "|3            |OFFENCES AGAINST PROPERTY  |THEFT AND RELATED OFFENCES          |Theft from shop                        |5000               |1/07/2010    |ADELAIDE         |[5d71d7733a10c20c5ef44b8a]|\n",
      "|2            |OFFENCES AGAINST THE PERSON|ACTS INTENDED TO CAUSE INJURY       |Common Assault                         |5000               |1/07/2010    |ADELAIDE         |[5d71d7733a10c20c5ef44b8b]|\n",
      "|1            |OFFENCES AGAINST PROPERTY  |PROPERTY DAMAGE AND ENVIRONMENTAL   |Other property damage and environmental|5014               |1/07/2010    |ALBERTON         |[5d71d7733a10c20c5ef44b8c]|\n",
      "|1            |OFFENCES AGAINST PROPERTY  |THEFT AND RELATED OFFENCES          |Other theft                            |5154               |1/07/2010    |ALDGATE          |[5d71d7733a10c20c5ef44b8d]|\n",
      "|1            |OFFENCES AGAINST PROPERTY  |THEFT AND RELATED OFFENCES          |Other theft                            |5555               |1/07/2010    |ALFORD           |[5d71d7733a10c20c5ef44b8e]|\n",
      "|1            |OFFENCES AGAINST PROPERTY  |PROPERTY DAMAGE AND ENVIRONMENTAL   |Property damage by fire or explosion   |5724               |1/07/2010    |AMATA            |[5d71d7733a10c20c5ef44b8f]|\n",
      "|1            |OFFENCES AGAINST THE PERSON|ACTS INTENDED TO CAUSE INJURY       |Serious Assault resulting in injury    |5724               |1/07/2010    |AMATA            |[5d71d7733a10c20c5ef44b90]|\n",
      "|1            |OFFENCES AGAINST PROPERTY  |PROPERTY DAMAGE AND ENVIRONMENTAL   |Other property damage and environmental|5114               |1/07/2010    |ANDREWS FARM     |[5d71d7733a10c20c5ef44b91]|\n",
      "|1            |OFFENCES AGAINST PROPERTY  |FRAUD DECEPTION AND RELATED OFFENCES|Obtain benefit by deception            |5043               |1/07/2010    |ASCOT PARK       |[5d71d7733a10c20c5ef44b92]|\n",
      "|1            |OFFENCES AGAINST PROPERTY  |PROPERTY DAMAGE AND ENVIRONMENTAL   |Other property damage and environmental|5076               |1/07/2010    |ATHELSTONE       |[5d71d7733a10c20c5ef44b93]|\n",
      "|1            |OFFENCES AGAINST PROPERTY  |SERIOUS CRIMINAL TRESPASS           |SCT - Residence                        |5451               |1/07/2010    |AUBURN           |[5d71d7733a10c20c5ef44b94]|\n",
      "|1            |OFFENCES AGAINST PROPERTY  |SERIOUS CRIMINAL TRESPASS           |SCT - Residence                        |5052               |1/07/2010    |BELAIR           |[5d71d7733a10c20c5ef44b95]|\n",
      "|1            |OFFENCES AGAINST PROPERTY  |SERIOUS CRIMINAL TRESPASS           |SCT - Non Residence                    |5234               |1/07/2010    |BIRDWOOD         |[5d71d7733a10c20c5ef44b96]|\n",
      "|1            |OFFENCES AGAINST THE PERSON|ACTS INTENDED TO CAUSE INJURY       |Common Assault                         |5015               |1/07/2010    |BIRKENHEAD       |[5d71d7733a10c20c5ef44b97]|\n",
      "|1            |OFFENCES AGAINST PROPERTY  |PROPERTY DAMAGE AND ENVIRONMENTAL   |Other property damage and environmental|5084               |1/07/2010    |BLAIR ATHOL      |[5d71d7733a10c20c5ef44b98]|\n",
      "|1            |OFFENCES AGAINST PROPERTY  |THEFT AND RELATED OFFENCES          |Theft from motor vehicle               |5084               |1/07/2010    |BLAIR ATHOL      |[5d71d7733a10c20c5ef44b99]|\n",
      "+-------------+---------------------------+------------------------------------+---------------------------------------+-------------------+-------------+-----------------+--------------------------+\n",
      "only showing top 20 rows\n",
      "\n",
      "root\n",
      " |-- Offence Count: integer (nullable = true)\n",
      " |-- Offence Level 1 Description: string (nullable = true)\n",
      " |-- Offence Level 2 Description: string (nullable = true)\n",
      " |-- Offence Level 3 Description: string (nullable = true)\n",
      " |-- Postcode - Incident: string (nullable = true)\n",
      " |-- Reported Date: string (nullable = true)\n",
      " |-- Suburb - Incident: string (nullable = true)\n",
      " |-- _id: struct (nullable = true)\n",
      " |    |-- oid: string (nullable = true)\n",
      "\n"
     ]
    }
   ],
   "source": [
    "#Read from Database\n",
    "crime_df_mongodb = crime_spark.read.format(\"com.mongodb.spark.sql.DefaultSource\").load() #read the data from database\n",
    "crime_df_mongodb.show(20, False) #show the top 20 rows data in the dataframe\n",
    "crime_df_mongodb.printSchema() #show the schema in the dataframe"
   ]
  },
  {
   "cell_type": "markdown",
   "metadata": {},
   "source": [
    "<font size = \"3\">According to the schema information, it shows that the data type of reported date is the string data type which is not the correct data type for date information. Therefore, it will show the incorrect ranking of max and min date value information so it will change the data type of reported date from string to date on the further step.</font>"
   ]
  },
  {
   "cell_type": "markdown",
   "metadata": {},
   "source": [
    "## Step 05: Calculate the statistics of numeric and string columns"
   ]
  },
  {
   "cell_type": "code",
   "execution_count": 6,
   "metadata": {},
   "outputs": [
    {
     "name": "stdout",
     "output_type": "stream",
     "text": [
      "+-------+------------------+-------------+\n",
      "|summary|     Offence Count|Reported Date|\n",
      "+-------+------------------+-------------+\n",
      "|  count|            726921|       726921|\n",
      "|   mean| 1.171599114621809|         null|\n",
      "| stddev|0.5788485264995505|         null|\n",
      "|    min|                 1|    1/01/2011|\n",
      "|    max|                28|    9/12/2018|\n",
      "+-------+------------------+-------------+\n",
      "\n"
     ]
    }
   ],
   "source": [
    "# Using the describe function to calculate the statistic data in the numeric column (offence count) and string colums (reported date)\n",
    "crime_df_mongodb.describe(\"Offence Count\", \"Reported Date\").show()"
   ]
  },
  {
   "cell_type": "markdown",
   "metadata": {},
   "source": [
    "<font size = \"3\">According this result, it shows the maximum value of **\"Offence Count\"** is 28 but the **\"Reported Date\" (08/12/2018)** is not the correct value, which the correct one is 31/03/2019. Also, the result of minimum value of **\"Offence Count\"** is 1 but the **\"Reported Date\" (01/01/2011)** is not the correct answer, which the correct one is 01/07/2010.\n",
    "\n",
    "The reason of calculating wrong result of maximum and minimum value on **\"Reported Date\"** is caused by inappropriate data type. The inaccurate data type of **\"Reported Date\"** is string which the correct data type should be date format. Therefore, it might be the reason for getting the incorrect result of **\"Reported Date\"** when the data type is string then it will return the result based on ASCII. Meanwhile, it cannot retrieve correct maximum and mimimum value on **\"Reported Date\"** column based on the incorrect data type.</font>"
   ]
  },
  {
   "cell_type": "code",
   "execution_count": 7,
   "metadata": {},
   "outputs": [
    {
     "name": "stdout",
     "output_type": "stream",
     "text": [
      "+-------------+-------------+\n",
      "|Reported Date|Offence Count|\n",
      "+-------------+-------------+\n",
      "|   28/09/2016|           28|\n",
      "|   12/12/2018|           27|\n",
      "|   23/05/2012|           25|\n",
      "|   30/06/2013|           23|\n",
      "|    2/12/2016|           18|\n",
      "|   22/11/2018|           17|\n",
      "|   12/10/2011|           17|\n",
      "|   16/02/2011|           17|\n",
      "|   29/03/2012|           16|\n",
      "|   20/09/2013|           16|\n",
      "|   25/08/2016|           16|\n",
      "|   13/08/2010|           16|\n",
      "|    8/04/2015|           15|\n",
      "|   15/03/2011|           15|\n",
      "|   28/03/2012|           15|\n",
      "|   26/04/2016|           14|\n",
      "|    8/09/2013|           14|\n",
      "|   12/06/2011|           14|\n",
      "|   15/12/2013|           14|\n",
      "|   19/02/2019|           13|\n",
      "+-------------+-------------+\n",
      "only showing top 20 rows\n",
      "\n"
     ]
    }
   ],
   "source": [
    "# Show the maximum value of \"Offence Count\" and \"Reported Date\" two columns\n",
    "\n",
    "# groupBy(\"Reported Date\") : grouping the reported date first because it has different records of offence count at the same date\n",
    "# agg({\"Offence Count\": \"max\"}) : calculating the maximum value of offence count\n",
    "# withColumnRenamed(\"max(Offence Count)\", \"Offence Count\") : rename the column name\n",
    "# sort(\"Offence Count\", ascending=False) : using the descending order to show the maximum value on the top rows of Offence Count column\n",
    "\n",
    "crime_df_mongodb.groupBy(\"Reported Date\")\\\n",
    "                .agg({\"Offence Count\": \"max\"})\\\n",
    "                .withColumnRenamed(\"max(Offence Count)\", \"Offence Count\")\\\n",
    "                .sort(\"Offence Count\", ascending=False)\\\n",
    "                .show() #showing the result"
   ]
  },
  {
   "cell_type": "markdown",
   "metadata": {},
   "source": [
    "<font size = \"3\"> If it want to retrieve the corresponding result of maximum value on **\"Reported Date\"** based on **\"Offence Count\"** column. Then, it can use the **\"groupBy\"** and **\"aggregate\"** methods to achieve this task.</font>"
   ]
  },
  {
   "cell_type": "code",
   "execution_count": 8,
   "metadata": {},
   "outputs": [
    {
     "name": "stdout",
     "output_type": "stream",
     "text": [
      "+-------------+-------------+\n",
      "|Reported Date|Offence Count|\n",
      "+-------------+-------------+\n",
      "|    9/12/2018|            1|\n",
      "|    9/12/2016|            1|\n",
      "|    9/12/2015|            1|\n",
      "|    9/12/2014|            1|\n",
      "|    9/12/2013|            1|\n",
      "|    9/12/2012|            1|\n",
      "|    9/12/2011|            1|\n",
      "|    9/12/2010|            1|\n",
      "|    9/11/2018|            1|\n",
      "|    9/11/2016|            1|\n",
      "|    9/11/2015|            1|\n",
      "|    9/11/2014|            1|\n",
      "|    9/11/2013|            1|\n",
      "|    9/11/2012|            1|\n",
      "|    9/11/2011|            1|\n",
      "|    9/11/2010|            1|\n",
      "|    9/10/2018|            1|\n",
      "|    9/10/2016|            1|\n",
      "|    9/10/2015|            1|\n",
      "|    9/10/2014|            1|\n",
      "+-------------+-------------+\n",
      "only showing top 20 rows\n",
      "\n"
     ]
    }
   ],
   "source": [
    "# Show the minimum value of \"Offence Count\" and \"Reported Date\" two columns\n",
    "\n",
    "# groupBy(\"Reported Date\") : grouping the reported date first because it has different records of offence count at the same date\n",
    "# agg({\"Offence Count\": \"min\"}) : calculating the minimum value of offence count\n",
    "# withColumnRenamed(\"min(Offence Count)\", \"Offence Count\") : rename the column name\n",
    "# sort(\"Reported Date\", ascending=False) : using the descending order to show the maximum value at the top row of Reported Date column\n",
    "\n",
    "crime_df_mongodb.groupBy(\"Reported Date\")\\\n",
    "                .agg({\"Offence Count\": \"min\"})\\\n",
    "                .withColumnRenamed(\"min(Offence Count)\", \"Offence Count\")\\\n",
    "                .sort(\"Reported Date\", ascending = False)\\\n",
    "                .show() #showing the result"
   ]
  },
  {
   "cell_type": "code",
   "execution_count": 9,
   "metadata": {},
   "outputs": [
    {
     "name": "stdout",
     "output_type": "stream",
     "text": [
      "2831\n"
     ]
    }
   ],
   "source": [
    "# Count the number of minimum value on the column\n",
    "countMinColumn = crime_df_mongodb.groupBy(\"Reported Date\").agg({\"Offence Count\": \"min\"}).count()\n",
    "print(countMinColumn)"
   ]
  },
  {
   "cell_type": "markdown",
   "metadata": {},
   "source": [
    "<font size = \"3\">It shows the corresponding result of **\"Reported Date\"** based on the minimum value of **\"Offence Count\"**. However, it has numerous minimum value, which is 1, on the **\"Offence Count\"** column. The number of minimum value has including 2832 records, but even if it uses the **\"sort\"** method to get the descending order by **\"Reported Date\"**. Then, it also cannot retrieve the correct order by **\"Reported Date\"** either because the reason might be the data type is string which is using ASCII to calculate the result of maximum and minimum value on **\"Reported Date\"**.</font>"
   ]
  },
  {
   "cell_type": "markdown",
   "metadata": {},
   "source": [
    "## Step 06: Change the data type of a column"
   ]
  },
  {
   "cell_type": "code",
   "execution_count": 10,
   "metadata": {},
   "outputs": [],
   "source": [
    "# Import the to_date function from pyspark.sql.functins to convert string to date type\n",
    "# Import the udf function from pyspark.sql.functins to use the user defined functions\n",
    "from pyspark.sql.functions import to_date\n",
    "from pyspark.sql.functions import udf"
   ]
  },
  {
   "cell_type": "code",
   "execution_count": 11,
   "metadata": {},
   "outputs": [],
   "source": [
    "# Define the function to convert the data type from string to date\n",
    "def convertdatefunc (dataframe, data): #convertdatefunc has two parameters, one is dataframe and the other one is data which is the converting column\n",
    "    return dataframe.withColumn(\"Modify Reported Date\", to_date(data, \"dd/MM/yyyy\")) #adding a column to record the modifying data"
   ]
  },
  {
   "cell_type": "code",
   "execution_count": 12,
   "metadata": {},
   "outputs": [],
   "source": [
    "# Define the user-defined fucntions\n",
    "dateconvert = udf(convertdatefunc) #to call the convertdatefunc into the user defined functions"
   ]
  },
  {
   "cell_type": "code",
   "execution_count": 13,
   "metadata": {},
   "outputs": [],
   "source": [
    "# Updating the column within the new dataframe in the mongodb\n",
    "newDatetype_crime_df_mongodb = convertdatefunc(crime_df_mongodb, \"Reported Date\") #to call the user defined function within the convertdatefunc with two parameters"
   ]
  },
  {
   "cell_type": "code",
   "execution_count": 14,
   "metadata": {},
   "outputs": [
    {
     "name": "stdout",
     "output_type": "stream",
     "text": [
      "root\n",
      " |-- Offence Count: integer (nullable = true)\n",
      " |-- Offence Level 1 Description: string (nullable = true)\n",
      " |-- Offence Level 2 Description: string (nullable = true)\n",
      " |-- Offence Level 3 Description: string (nullable = true)\n",
      " |-- Postcode - Incident: string (nullable = true)\n",
      " |-- Reported Date: string (nullable = true)\n",
      " |-- Suburb - Incident: string (nullable = true)\n",
      " |-- _id: struct (nullable = true)\n",
      " |    |-- oid: string (nullable = true)\n",
      " |-- Modify Reported Date: date (nullable = true)\n",
      "\n"
     ]
    }
   ],
   "source": [
    "# Print the schema with new column of Modify Reported Date to check the data type of date in the dataframe\n",
    "newDatetype_crime_df_mongodb.printSchema()"
   ]
  },
  {
   "cell_type": "markdown",
   "metadata": {},
   "source": [
    "<font size = \"3\">The schema shows that the data type of **\"Modify Reported Date\"** column is date format which is changing the data type from string data type on **\"Reported Date\"** column to date data type on **\"Modify Reported Date\"** column.</font>"
   ]
  },
  {
   "cell_type": "code",
   "execution_count": 15,
   "metadata": {},
   "outputs": [
    {
     "data": {
      "text/plain": [
       "[Row(Modify Reported Date=datetime.date(2010, 7, 1)),\n",
       " Row(Modify Reported Date=datetime.date(2010, 7, 1)),\n",
       " Row(Modify Reported Date=datetime.date(2010, 7, 1)),\n",
       " Row(Modify Reported Date=datetime.date(2010, 7, 1)),\n",
       " Row(Modify Reported Date=datetime.date(2010, 7, 1)),\n",
       " Row(Modify Reported Date=datetime.date(2010, 7, 1)),\n",
       " Row(Modify Reported Date=datetime.date(2010, 7, 1)),\n",
       " Row(Modify Reported Date=datetime.date(2010, 7, 1)),\n",
       " Row(Modify Reported Date=datetime.date(2010, 7, 1)),\n",
       " Row(Modify Reported Date=datetime.date(2010, 7, 1)),\n",
       " Row(Modify Reported Date=datetime.date(2010, 7, 1)),\n",
       " Row(Modify Reported Date=datetime.date(2010, 7, 1)),\n",
       " Row(Modify Reported Date=datetime.date(2010, 7, 1)),\n",
       " Row(Modify Reported Date=datetime.date(2010, 7, 1)),\n",
       " Row(Modify Reported Date=datetime.date(2010, 7, 1)),\n",
       " Row(Modify Reported Date=datetime.date(2010, 7, 1)),\n",
       " Row(Modify Reported Date=datetime.date(2010, 7, 1)),\n",
       " Row(Modify Reported Date=datetime.date(2010, 7, 1)),\n",
       " Row(Modify Reported Date=datetime.date(2010, 7, 1)),\n",
       " Row(Modify Reported Date=datetime.date(2010, 7, 1))]"
      ]
     },
     "execution_count": 15,
     "metadata": {},
     "output_type": "execute_result"
    }
   ],
   "source": [
    "# Display the first twenty rows in the data frame on \"Modify Reported Date\" column\n",
    "newDatetype_crime_df_mongodb.select(\"Modify Reported Date\").take(20)"
   ]
  },
  {
   "cell_type": "markdown",
   "metadata": {},
   "source": [
    "## Step 07: Preliminary data analysis"
   ]
  },
  {
   "cell_type": "markdown",
   "metadata": {},
   "source": [
    "### 1. How many level 2 offences are there?"
   ]
  },
  {
   "cell_type": "code",
   "execution_count": 16,
   "metadata": {},
   "outputs": [
    {
     "name": "stdout",
     "output_type": "stream",
     "text": [
      "+------------------------------------+------+\n",
      "|Offence Level 2 Description         |count |\n",
      "+------------------------------------+------+\n",
      "|ROBBERY AND RELATED OFFENCES        |5843  |\n",
      "|PROPERTY DAMAGE AND ENVIRONMENTAL   |166100|\n",
      "|SEXUAL ASSAULT AND RELATED OFFENCES |13367 |\n",
      "|HOMICIDE AND RELATED OFFENCES       |441   |\n",
      "|ACTS INTENDED TO CAUSE INJURY       |112866|\n",
      "|SERIOUS CRIMINAL TRESPASS           |104903|\n",
      "|OTHER OFFENCES AGAINST THE PERSON   |23392 |\n",
      "|FRAUD DECEPTION AND RELATED OFFENCES|19563 |\n",
      "|THEFT AND RELATED OFFENCES          |280446|\n",
      "+------------------------------------+------+\n",
      "\n"
     ]
    }
   ],
   "source": [
    "# Display the number of each description on the level 2 offence\n",
    "newDatetype_crime_df_mongodb.groupBy(\"Offence Level 2 Description\").count().show(9, False)"
   ]
  },
  {
   "cell_type": "code",
   "execution_count": 17,
   "metadata": {},
   "outputs": [
    {
     "name": "stdout",
     "output_type": "stream",
     "text": [
      "It has 726921 total rows on the Offence Level 2 Description column\n"
     ]
    }
   ],
   "source": [
    "print(\"It has {0} total rows on the Offence Level 2 Description column\".format(newDatetype_crime_df_mongodb.select(\"Offence Level 2 Description\").count()))"
   ]
  },
  {
   "cell_type": "markdown",
   "metadata": {},
   "source": [
    "<font size = \"3\">It shows the different description type of level 2 offence and also the number is counted by each type of description. The total types of **\"Offence Level 2 Description\"** have 9 types, and the number of total rows have 726921 data point. Each of these types are **\"ROBBERY AND RELATED OFFENCES\"** has 5843 rows,  **\"PROPERTY DAMAGE AND ENVIRONMENTAL\"** has 166100 rows, **\"SEXUAL ASSAULT AND RELATED OFFENCES\"** has 13367 rows, **\"HOMICIDE AND RELATED OFFENCES\"** has 441 rows, **\"ACTS INTENDED TO CAUSE INJURY\"** has 112866 rows, **\"SERIOUS CRIMINAL TRESPASS\"** has 104903 rows, **\"OTHER OFFENCES AGAINST THE PERSON\"** has 23392 rows, **\"FRAUD DECEPTION AND RELATED OFFENCES\"** has 19563 rows, **\"THEFT AND RELATED OFFENCES\"** has 280446 rows.\n",
    "In addition, the top one crimes event is  **\"THEFT AND RELATED OFFENCES\"**, and the less one crimes event is  **\"HOMICIDE AND RELATED OFFENCES\"** can be found in the above table.</font>"
   ]
  },
  {
   "cell_type": "markdown",
   "metadata": {},
   "source": [
    "### 2. What is the number of offences against the person?"
   ]
  },
  {
   "cell_type": "code",
   "execution_count": 18,
   "metadata": {},
   "outputs": [
    {
     "name": "stdout",
     "output_type": "stream",
     "text": [
      "+---------------------------+------+\n",
      "|Offence Level 1 Description|count |\n",
      "+---------------------------+------+\n",
      "|OFFENCES AGAINST THE PERSON|155909|\n",
      "|OFFENCES AGAINST PROPERTY  |571012|\n",
      "+---------------------------+------+\n",
      "\n"
     ]
    }
   ],
   "source": [
    "newDatetype_crime_df_mongodb.groupBy(\"Offence Level 1 Description\").count().show(2, False) #to show the number of offecnces against the person"
   ]
  },
  {
   "cell_type": "markdown",
   "metadata": {},
   "source": [
    "<font size = \"3\">It has 155909 records to demenstrate the number of offences against the person.</font>"
   ]
  },
  {
   "cell_type": "markdown",
   "metadata": {},
   "source": [
    "### 3. How many serious criminal tresspasses with more than 1 offence count?"
   ]
  },
  {
   "cell_type": "code",
   "execution_count": 19,
   "metadata": {},
   "outputs": [],
   "source": [
    "# Calculating the number of serious criminal tresspasses with more than 1 offence count\n",
    "numSeriousgt1 = newDatetype_crime_df_mongodb.select(\"Offence Count\", \"Offence Level 2 Description\")\\\n",
    ".filter(newDatetype_crime_df_mongodb[\"Offence Level 2 Description\"] == \"SERIOUS CRIMINAL TRESPASS\")\\\n",
    ".filter(newDatetype_crime_df_mongodb[\"Offence Count\"] > 1).count()"
   ]
  },
  {
   "cell_type": "code",
   "execution_count": 20,
   "metadata": {},
   "outputs": [
    {
     "name": "stdout",
     "output_type": "stream",
     "text": [
      "It has 8574 serious criminal tresspasses with more than 1 offence count.\n"
     ]
    }
   ],
   "source": [
    "print(\"It has {0} serious criminal tresspasses with more than 1 offence count.\".format(numSeriousgt1))"
   ]
  },
  {
   "cell_type": "markdown",
   "metadata": {},
   "source": [
    "### 4.What percentage of crimes are offences against the property?"
   ]
  },
  {
   "cell_type": "code",
   "execution_count": 21,
   "metadata": {},
   "outputs": [],
   "source": [
    "# Calculating the percentage of crimes are offences against the property\n",
    "totalOffence = newDatetype_crime_df_mongodb.select(\"Offence Level 1 Description\").count() #count the total number of offence\n",
    "subsetOffence = newDatetype_crime_df_mongodb.select(\"Offence Level 1 Description\")\\\n",
    ".filter(newDatetype_crime_df_mongodb[\"Offence Level 1 Description\"] == \"OFFENCES AGAINST PROPERTY\")\\\n",
    ".count() #count the number of \"OFFENCES AGAINST PROPERTY\"\n",
    "\n",
    "# Create the function to calculate the percentage which is the subset divided by original data set\n",
    "def percentage(total, subset):\n",
    "    percent = round((subset / total) * 100, 2)\n",
    "    return str(percent) + str(\"%\")"
   ]
  },
  {
   "cell_type": "code",
   "execution_count": 22,
   "metadata": {},
   "outputs": [
    {
     "name": "stdout",
     "output_type": "stream",
     "text": [
      "It has 78.55% percent of crimes are offences against the property.\n"
     ]
    }
   ],
   "source": [
    "print(\"It has {0} percent of crimes are offences against the property.\".format(percentage(totalOffence, subsetOffence)))"
   ]
  },
  {
   "cell_type": "markdown",
   "metadata": {},
   "source": [
    "## Step 08: Exploratory data analysis"
   ]
  },
  {
   "cell_type": "code",
   "execution_count": 23,
   "metadata": {},
   "outputs": [],
   "source": [
    "from pyspark.sql.functions import year, month #for extracting the year and month data from Modify Reported Date column\n",
    "import matplotlib.pyplot as plt #import the matplotlib\n",
    "import numpy as np #import numpy"
   ]
  },
  {
   "cell_type": "markdown",
   "metadata": {},
   "source": [
    "### 1. Plot the graph of the number of crimes per year"
   ]
  },
  {
   "cell_type": "markdown",
   "metadata": {},
   "source": [
    "<font size = \"3\">The reason of choosing the line graph to demonstrate the crimes data because it is very transparent way to see the trend of the number of crimes, which the number of crimes are increasing or decreasing in the particular year.</font>"
   ]
  },
  {
   "cell_type": "code",
   "execution_count": 24,
   "metadata": {},
   "outputs": [],
   "source": [
    "# Preparing data for plotting line chart to demonstrate the trend of the number of crimes\n",
    "# Split the Modify Reported Date by year\n",
    "# withColumnRenamed(\"year(Modify Reported Date)\", \"Year\") : rename the column\n",
    "# sort(\"Year\") : sorting the year data\n",
    "YearDF = newDatetype_crime_df_mongodb.select(year(\"Modify Reported Date\"), \"Offence Count\")\\\n",
    "                .withColumnRenamed(\"year(Modify Reported Date)\", \"Year\")\\\n",
    "                .sort(\"Year\")"
   ]
  },
  {
   "cell_type": "code",
   "execution_count": 25,
   "metadata": {},
   "outputs": [
    {
     "name": "stdout",
     "output_type": "stream",
     "text": [
      "+----+------+\n",
      "|Year| Count|\n",
      "+----+------+\n",
      "|2010| 61382|\n",
      "|2011|122176|\n",
      "|2012|112953|\n",
      "|2013|106761|\n",
      "|2014|101727|\n",
      "|2015|105628|\n",
      "|2016|107566|\n",
      "|2017| 50144|\n",
      "|2018| 55570|\n",
      "|2019| 27753|\n",
      "+----+------+\n",
      "\n"
     ]
    }
   ],
   "source": [
    "# Groupby the data by year then counting the offence number at each particular year\n",
    "crimesYearDF = YearDF.groupBy(\"Year\").sum(\"Offence Count\").withColumnRenamed(\"sum(Offence Count)\", \"Count\")\n",
    "crimesYearDF.show(20)"
   ]
  },
  {
   "cell_type": "code",
   "execution_count": 26,
   "metadata": {},
   "outputs": [],
   "source": [
    "# Plotting the line graph\n",
    "crimesYearList = crimesYearDF.collect() #convert dataframe to list\n",
    "yearX = [row[\"Year\"] for row in crimesYearList] #x axis for the number of crimes\n",
    "crimesY = [row[\"Count\"] for row in crimesYearList] #y axif for each year"
   ]
  },
  {
   "cell_type": "code",
   "execution_count": 27,
   "metadata": {},
   "outputs": [
    {
     "data": {
      "image/png": "[encoded data removed]",
      "text/plain": [
       "<Figure size 720x432 with 1 Axes>"
      ]
     },
     "metadata": {
      "needs_background": "light"
     },
     "output_type": "display_data"
    }
   ],
   "source": [
    "# Plotting the line graph\n",
    "plt.figure(figsize = (10,6)) #setting the size of figure\n",
    "plt.plot(yearX, crimesY, \".-\", color = \"#E94994\", linewidth = 2, alpha = 0.6) #plotting the line chart and setting the color\n",
    "plt.xlabel(\"Year\", fontsize = 12) #giving the specifice name on the x axis\n",
    "plt.ylabel(\"The Number of Crimes\", fontsize = 12) #giving the specifice name on the y axis\n",
    "plt.title(\"The Number of Crimes Per Year\") #giving the specifice name on the title of this graph\n",
    "for x, y in zip(yearX , crimesY): #showing the each point of data on the graph\n",
    "    plt.text(x-0.3, y+1000, \"%.0f\" %y)\n",
    "plt.show() #displaying the graph"
   ]
  },
  {
   "cell_type": "markdown",
   "metadata": {},
   "source": [
    "<font size = \"3\">From the 2010 to 2011, the number of crimes have sharply increasing from 61382 to 122176. The reason might have this significant changed because it has only contained six months in 2010 which it does not the entire year data, aslo it has the same situation in 2019. The crimes number of each year has slight changed since 2011 to 2014 which the crimes events decrease between these four years, and then smoothly increase from 101727 to 107566 between 2014 and 2016. After 2016, the number of crimes roar dip suddenly in 2017 which has decreased by 50144. During 2017 to 2019 year, it has not big changed from 2017 to 2018, but the number of crimes have the significant declined since 2018. The reason can be the crimes data does not contain the entire year in 2019 which it only has three months in this year. Therefore, according to this graph and the data, it only can draw a simple conclusion on it, which it has higher crimes happening between 2011 and 2016 year, then it suddenly declines from 2016 to 2018 year because it has the incomplete information during 2017 and 2018. The peak of the number of crimes is 122176 in 2011, but it is hard to draw the conclusion on the lower point becuase it doesn't have the same standard criteria to compare the complete and incomplete the data information which means they are different data records to record the crimes information during the entire year or partial month in the year.</font>"
   ]
  },
  {
   "cell_type": "markdown",
   "metadata": {},
   "source": [
    "### 2. Plot the graph of the number of crimes per month"
   ]
  },
  {
   "cell_type": "markdown",
   "metadata": {},
   "source": [
    "<font size = \"3\">The reason of choosing the line graph to demonstrate the crimes data because it is very transparent way to see the trend of crimes number, which the trend is increasing or decreasing in the particular month.</font>"
   ]
  },
  {
   "cell_type": "code",
   "execution_count": 28,
   "metadata": {},
   "outputs": [],
   "source": [
    "monthDF = newDatetype_crime_df_mongodb.select(month(\"Modify Reported Date\"), \"Offence Count\")\\\n",
    "                .withColumnRenamed(\"month(Modify Reported Date)\", \"Month\")\\\n",
    "                .sort(\"Month\")"
   ]
  },
  {
   "cell_type": "code",
   "execution_count": 29,
   "metadata": {},
   "outputs": [
    {
     "name": "stdout",
     "output_type": "stream",
     "text": [
      "+-----+-----+\n",
      "|Month|Count|\n",
      "+-----+-----+\n",
      "|    1|77434|\n",
      "|    2|70373|\n",
      "|    3|74876|\n",
      "|    4|60027|\n",
      "|    5|64231|\n",
      "|    6|60678|\n",
      "|    7|70907|\n",
      "|    8|72799|\n",
      "|    9|72552|\n",
      "|   10|77119|\n",
      "|   11|75129|\n",
      "|   12|75535|\n",
      "+-----+-----+\n",
      "\n"
     ]
    }
   ],
   "source": [
    "#groupby the data at each specific year\n",
    "crimesMonthDF = monthDF.groupBy(\"Month\").sum(\"Offence Count\").withColumnRenamed(\"sum(Offence Count)\", \"Count\")\n",
    "crimesMonthDF.show()"
   ]
  },
  {
   "cell_type": "code",
   "execution_count": 30,
   "metadata": {},
   "outputs": [],
   "source": [
    "# Plotting the line graph\n",
    "crimesMonthList = crimesMonthDF.collect() #convert dataframe to list\n",
    "monthX = [row[\"Month\"] for row in crimesMonthList] #x axis for the number of crimes\n",
    "crimesMonthY = [row[\"Count\"] for row in crimesMonthList] #y axif for each year"
   ]
  },
  {
   "cell_type": "code",
   "execution_count": 31,
   "metadata": {},
   "outputs": [
    {
     "name": "stdout",
     "output_type": "stream",
     "text": [
      "+----------+\n",
      "|sum(Count)|\n",
      "+----------+\n",
      "|    851660|\n",
      "+----------+\n",
      "\n",
      "The average number of crimes is 70971\n"
     ]
    }
   ],
   "source": [
    "# Count the average crime events by month\n",
    "totalCrimes = crimesMonthDF.groupBy().sum(\"Count\").show() #count the total crimes number\n",
    "aveCrimes = int(851660 / 12) #average crimes number per month\n",
    "print(\"The average number of crimes is {0}\".format(aveCrimes))"
   ]
  },
  {
   "cell_type": "code",
   "execution_count": 32,
   "metadata": {},
   "outputs": [
    {
     "data": {
      "image/png": "[encoded data removed]",
      "text/plain": [
       "<Figure size 720x432 with 1 Axes>"
      ]
     },
     "metadata": {
      "needs_background": "light"
     },
     "output_type": "display_data"
    }
   ],
   "source": [
    "# Plotting the line graph\n",
    "plt.figure(figsize = (10,6)) #setting the size of figure\n",
    "plt.plot(monthX, crimesMonthY, \".-\", color = \"#E94994\", linewidth = 2, alpha = 0.5) #plotting the line chart and setting the color\n",
    "plt.xlabel(\"Month\", fontsize = 12) #giving the specifice name on the x axis\n",
    "plt.ylabel(\"The Number of Crimes\", fontsize = 12) #giving the specifice name on the y axis\n",
    "plt.title(\"The Number of Crimes Per Month\") #giving the specifice name on the title of this graph\n",
    "plt.axhline(aveCrimes, linestyle = \"dashed\", linewidth = 1.5, alpha = 0.5) #the crimes average line between 1 to 12 months\n",
    "for x, y in zip(monthX , crimesMonthY): #showing the each point of data on the graph\n",
    "    plt.text(x-0.25, y+100, \"%.0f\" %y)\n",
    "#plt.text(9, 59000, r\"The average crimes is 60576\")\n",
    "plt.annotate(\"The crimes data per month\", xy = (8, 73500), xytext = (6, 76000),\n",
    "             arrowprops = dict(facecolor = \"red\", shrink = 0.05)) #providing the text information for average crimes line\n",
    "plt.annotate(\"The average crimes is 70971\", xy = (9, 71000), xytext = (9, 68000),\n",
    "             arrowprops = dict(facecolor = \"blue\", shrink = 0.05)) #providing the text information for average crimes line\n",
    "plt.show() #displaying the graph"
   ]
  },
  {
   "cell_type": "markdown",
   "metadata": {},
   "source": [
    "<font size = \"3\">According to the line graph as showing on above, it has less remarkable changed than crimes data by year. The average of crimes number is 70971, and it has around five months under this average crimes point which are February, April, May, June, and July. The lower point crimes month is April which has 60027 crimes events during this month, and the peak point of crimes event is 77434 in January from 2010 to 2019. In conclusion, the crimes events might be happening a lot during the season in summer, on the opposite, it might have less crimes events in winter than other seasons. </font>"
   ]
  },
  {
   "cell_type": "markdown",
   "metadata": {},
   "source": [
    "### 3. Where do most crimes take place? Find the top 20 suburbs and plot it"
   ]
  },
  {
   "cell_type": "code",
   "execution_count": 33,
   "metadata": {},
   "outputs": [],
   "source": [
    "#import the concat, lit and col functions to do the merge column\n",
    "from pyspark.sql.functions import concat, lit, col"
   ]
  },
  {
   "cell_type": "code",
   "execution_count": 34,
   "metadata": {},
   "outputs": [],
   "source": [
    "# Merge the two different colums, one is Suburb - Incident, another is Postcode - Incident\n",
    "# withColumnRenamed(\"concat(Suburb - Incident, -, Postcode - Incident)\", \"Suburb\") : rename the column name\n",
    "mergeDF = newDatetype_crime_df_mongodb.select(\"Suburb - Incident\", \"Offence Count\",\n",
    "                                              concat (col(\"Suburb - Incident\"), lit(\"-\"), \n",
    "                                                      col(\"Postcode - Incident\")))\\\n",
    "            .withColumnRenamed(\"concat(Suburb - Incident, -, Postcode - Incident)\", \"Suburb\")"
   ]
  },
  {
   "cell_type": "code",
   "execution_count": 35,
   "metadata": {},
   "outputs": [
    {
     "name": "stdout",
     "output_type": "stream",
     "text": [
      "+---------------------------+-----+\n",
      "|Suburb                     |Count|\n",
      "+---------------------------+-----+\n",
      "|ADELAIDE-5000              |21684|\n",
      "|MOUNT GAMBIER-5290         |10000|\n",
      "|PORT AUGUSTA-5700          |9619 |\n",
      "|MORPHETT VALE-5162         |9548 |\n",
      "|MURRAY BRIDGE-5253         |9423 |\n",
      "|NOT DISCLOSED-NOT DISCLOSED|8939 |\n",
      "|SALISBURY-5108             |8332 |\n",
      "|PORT LINCOLN-5606          |7848 |\n",
      "|ELIZABETH-5112             |7686 |\n",
      "|PARAFIELD GARDENS-5107     |6640 |\n",
      "|DAVOREN PARK-5113          |6519 |\n",
      "|PARALOWIE-5108             |6084 |\n",
      "|PROSPECT-5082              |5927 |\n",
      "|PORT PIRIE-5540            |5772 |\n",
      "|OAKLANDS PARK-5046         |5668 |\n",
      "|MODBURY-5092               |5537 |\n",
      "|SALISBURY NORTH-5108       |5492 |\n",
      "|SMITHFIELD-5114            |5412 |\n",
      "|WHYALLA STUART-5608        |5106 |\n",
      "|MAWSON LAKES-5095          |4863 |\n",
      "+---------------------------+-----+\n",
      "only showing top 20 rows\n",
      "\n"
     ]
    }
   ],
   "source": [
    "# Show the number cirmes of top 20 suburb\n",
    "mergeDF.groupBy(\"Suburb\").agg({\"Offence Count\" : \"count\"})\\\n",
    ".sort(\"count(Offence Count)\", ascending = False)\\\n",
    ".withColumnRenamed(\"count(Offence Count)\", \"Count\")\\\n",
    ".show(20, False)"
   ]
  },
  {
   "cell_type": "code",
   "execution_count": 36,
   "metadata": {},
   "outputs": [],
   "source": [
    "# Convert the dataframe to list\n",
    "mergeList = mergeDF.groupBy(\"Suburb\").agg({\"Offence Count\" : \"count\"})\\\n",
    "            .sort(\"count(Offence Count)\", ascending = False)\\\n",
    "            .withColumnRenamed(\"count(Offence Count)\", \"Count\")\\\n",
    "            .take(20)"
   ]
  },
  {
   "cell_type": "code",
   "execution_count": 37,
   "metadata": {},
   "outputs": [
    {
     "data": {
      "image/png": "[encoded data removed]",
      "text/plain": [
       "<Figure size 720x576 with 1 Axes>"
      ]
     },
     "metadata": {
      "needs_background": "light"
     },
     "output_type": "display_data"
    }
   ],
   "source": [
    "# Plotting the bar chart\n",
    "crimesSubY = [row[\"Count\"] for row in mergeList] #x axis for the number of crimes\n",
    "suburbX = [row[\"Suburb\"] for row in mergeList] #y axif for the name of suburb\n",
    "suburbLenX = np.arange(len(suburbX))\n",
    "crimesSubLenY = np.arange(len(crimesSubY))\n",
    "\n",
    "plt.figure(figsize = (10,8)) #setting the figure size\n",
    "\n",
    "colorMap = [\"#060A12\", \"#0C1626\", \"#12213A\", \"#12213A\", \"#1E3760\", \"#1E3760\", \"#244274\", \"#2B4E87\", \"#31599B\", \n",
    "            \"#3763AD\", \"#3D6EC1\", \"#507DC8\", \n",
    "            \"#648CCE\", \"#7699D4\", \"#8AA8DA\", \"#9EB7E0\", \"#B1C5E7\", \"#C4D3EC\", \"#D7E2F3\", \"#D7E2F3\"] #creating the color map for bar chart\n",
    "\n",
    "plt.barh(suburbX, crimesSubY, align='center', color=colorMap) #creating the horizontal bar chart\n",
    "plt.xlabel(\"The Number of Crimes\", fontsize = 12) #creating the label on x axis\n",
    "plt.ylabel(\"Suburb Area\", fontsize = 12) #creating the the label on y axis\n",
    "plt.title(\"The Top 20 Crimes Number Area\") #creating the title name on the graph\n",
    "\n",
    "plt.gca().invert_yaxis()"
   ]
  },
  {
   "cell_type": "markdown",
   "metadata": {},
   "source": [
    "<font size = \"3\"> The reason to use bar chart to show the result of top 20 crimes area in Australia, because it is easy to realize the ranking data from the bar chart. According to this bar chart shows on above, the suburb area which is **\"ADELAIDE\"** and the postcode is 5000 has the extremely crimes events happened in here which the number is exceeding 20000 from 2010 to 2019. The other areas, which are **\"MOUNT GAMBIER-5290\"**, **\"PORT AUGUSTA-5700\"**, **\"MORPHETT VALE-5162\"**, and **\"MURRAY BRIDGE-5253\"**, have around 10000 crimes events during this ten years. The rest of areas have less than 10000 crimes events since 2010.</font>"
   ]
  },
  {
   "cell_type": "markdown",
   "metadata": {},
   "source": [
    "### 4. Plot the number of serious criminal trespasses by day and month"
   ]
  },
  {
   "cell_type": "code",
   "execution_count": 38,
   "metadata": {},
   "outputs": [],
   "source": [
    "# Import the function from pyspark sql\n",
    "from pyspark.sql.functions import date_format, when"
   ]
  },
  {
   "cell_type": "code",
   "execution_count": 39,
   "metadata": {},
   "outputs": [
    {
     "name": "stdout",
     "output_type": "stream",
     "text": [
      "+--------------------+------------------------------------+-----+---+\n",
      "|Modify Reported Date|Offence Level 2 Description         |Month|Day|\n",
      "+--------------------+------------------------------------+-----+---+\n",
      "|2010-07-01          |FRAUD DECEPTION AND RELATED OFFENCES|7    |Thu|\n",
      "|2010-07-01          |PROPERTY DAMAGE AND ENVIRONMENTAL   |7    |Thu|\n",
      "|2010-07-01          |SERIOUS CRIMINAL TRESPASS           |7    |Thu|\n",
      "|2010-07-01          |THEFT AND RELATED OFFENCES          |7    |Thu|\n",
      "|2010-07-01          |THEFT AND RELATED OFFENCES          |7    |Thu|\n",
      "|2010-07-01          |ACTS INTENDED TO CAUSE INJURY       |7    |Thu|\n",
      "|2010-07-01          |PROPERTY DAMAGE AND ENVIRONMENTAL   |7    |Thu|\n",
      "|2010-07-01          |THEFT AND RELATED OFFENCES          |7    |Thu|\n",
      "|2010-07-01          |THEFT AND RELATED OFFENCES          |7    |Thu|\n",
      "|2010-07-01          |PROPERTY DAMAGE AND ENVIRONMENTAL   |7    |Thu|\n",
      "|2010-07-01          |ACTS INTENDED TO CAUSE INJURY       |7    |Thu|\n",
      "|2010-07-01          |PROPERTY DAMAGE AND ENVIRONMENTAL   |7    |Thu|\n",
      "|2010-07-01          |FRAUD DECEPTION AND RELATED OFFENCES|7    |Thu|\n",
      "|2010-07-01          |PROPERTY DAMAGE AND ENVIRONMENTAL   |7    |Thu|\n",
      "|2010-07-01          |SERIOUS CRIMINAL TRESPASS           |7    |Thu|\n",
      "|2010-07-01          |SERIOUS CRIMINAL TRESPASS           |7    |Thu|\n",
      "|2010-07-01          |SERIOUS CRIMINAL TRESPASS           |7    |Thu|\n",
      "|2010-07-01          |ACTS INTENDED TO CAUSE INJURY       |7    |Thu|\n",
      "|2010-07-01          |PROPERTY DAMAGE AND ENVIRONMENTAL   |7    |Thu|\n",
      "|2010-07-01          |THEFT AND RELATED OFFENCES          |7    |Thu|\n",
      "+--------------------+------------------------------------+-----+---+\n",
      "only showing top 20 rows\n",
      "\n"
     ]
    }
   ],
   "source": [
    "# Converting the date information to day and \n",
    "dayMonthDF = newDatetype_crime_df_mongodb.select(\"Modify Reported Date\", \"Offence Level 2 Description\", month(\"Modify Reported Date\"),\n",
    "                                                date_format(\"Modify Reported Date\", \"E\").alias(\"Day\"))\\\n",
    "                                            .withColumnRenamed(\"month(Modify Reported Date)\", \"Month\")\n",
    "dayMonthDF.show(20, False)"
   ]
  },
  {
   "cell_type": "code",
   "execution_count": 40,
   "metadata": {},
   "outputs": [],
   "source": [
    "# Create the new column for Months\n",
    "# when(col(\"Month\") == 1, \"Jan\") : it means if Month column has value 1 then it will show on the new column with Jan\n",
    "monthColumn = when(col(\"Month\") == 1, \"Jan\").when(col(\"Month\") == 2, \"Feb\")\\\n",
    "                .when(col(\"Month\") == 3, \"Mar\").when(col(\"Month\") == 4, \"Apr\")\\\n",
    "                .when(col(\"Month\") == 5, \"May\").when(col(\"Month\") == 6, \"Jun\")\\\n",
    "                .when(col(\"Month\") == 7, \"Jul\").when(col(\"Month\") == 8, \"Aug\")\\\n",
    "                .when(col(\"Month\") == 9, \"Sep\").when(col(\"Month\") == 10, \"Oct\")\\\n",
    "                .when(col(\"Month\") == 11, \"Nov\").when(col(\"Month\") == 12, \"Dec\")"
   ]
  },
  {
   "cell_type": "code",
   "execution_count": 41,
   "metadata": {},
   "outputs": [],
   "source": [
    "# Create the new column for days to sort the day by order using the numerical value\n",
    "dayColumn = when(col(\"Day\") == \"Mon\", 1).when(col(\"Day\") == \"Tue\", 2)\\\n",
    "                .when(col(\"Day\") == \"Wed\", 3).when(col(\"Day\") == \"Thu\", 4)\\\n",
    "                .when(col(\"Day\") == \"Fri\", 5).when(col(\"Day\") == \"Sat\", 6)\\\n",
    "                .when(col(\"Day\") == \"Sun\", 7)\\"
   ]
  },
  {
   "cell_type": "code",
   "execution_count": 42,
   "metadata": {},
   "outputs": [
    {
     "name": "stdout",
     "output_type": "stream",
     "text": [
      "+--------------------+------------------------------------+-----+---+------+----+\n",
      "|Modify Reported Date|Offence Level 2 Description         |Month|Day|Months|Days|\n",
      "+--------------------+------------------------------------+-----+---+------+----+\n",
      "|2010-07-01          |FRAUD DECEPTION AND RELATED OFFENCES|7    |Thu|Jul   |4   |\n",
      "|2010-07-01          |PROPERTY DAMAGE AND ENVIRONMENTAL   |7    |Thu|Jul   |4   |\n",
      "|2010-07-01          |SERIOUS CRIMINAL TRESPASS           |7    |Thu|Jul   |4   |\n",
      "|2010-07-01          |THEFT AND RELATED OFFENCES          |7    |Thu|Jul   |4   |\n",
      "|2010-07-01          |THEFT AND RELATED OFFENCES          |7    |Thu|Jul   |4   |\n",
      "|2010-07-01          |ACTS INTENDED TO CAUSE INJURY       |7    |Thu|Jul   |4   |\n",
      "|2010-07-01          |PROPERTY DAMAGE AND ENVIRONMENTAL   |7    |Thu|Jul   |4   |\n",
      "|2010-07-01          |THEFT AND RELATED OFFENCES          |7    |Thu|Jul   |4   |\n",
      "|2010-07-01          |THEFT AND RELATED OFFENCES          |7    |Thu|Jul   |4   |\n",
      "|2010-07-01          |PROPERTY DAMAGE AND ENVIRONMENTAL   |7    |Thu|Jul   |4   |\n",
      "|2010-07-01          |ACTS INTENDED TO CAUSE INJURY       |7    |Thu|Jul   |4   |\n",
      "|2010-07-01          |PROPERTY DAMAGE AND ENVIRONMENTAL   |7    |Thu|Jul   |4   |\n",
      "|2010-07-01          |FRAUD DECEPTION AND RELATED OFFENCES|7    |Thu|Jul   |4   |\n",
      "|2010-07-01          |PROPERTY DAMAGE AND ENVIRONMENTAL   |7    |Thu|Jul   |4   |\n",
      "|2010-07-01          |SERIOUS CRIMINAL TRESPASS           |7    |Thu|Jul   |4   |\n",
      "|2010-07-01          |SERIOUS CRIMINAL TRESPASS           |7    |Thu|Jul   |4   |\n",
      "|2010-07-01          |SERIOUS CRIMINAL TRESPASS           |7    |Thu|Jul   |4   |\n",
      "|2010-07-01          |ACTS INTENDED TO CAUSE INJURY       |7    |Thu|Jul   |4   |\n",
      "|2010-07-01          |PROPERTY DAMAGE AND ENVIRONMENTAL   |7    |Thu|Jul   |4   |\n",
      "|2010-07-01          |THEFT AND RELATED OFFENCES          |7    |Thu|Jul   |4   |\n",
      "+--------------------+------------------------------------+-----+---+------+----+\n",
      "only showing top 20 rows\n",
      "\n"
     ]
    }
   ],
   "source": [
    "# Create the new column in the dayMonthDF (dataframe)\n",
    "newDayMonthDF = dayMonthDF.withColumn(\"Months\", monthColumn).withColumn(\"Days\",dayColumn)\n",
    "newDayMonthDF.show(20, False)"
   ]
  },
  {
   "cell_type": "code",
   "execution_count": 43,
   "metadata": {},
   "outputs": [
    {
     "name": "stdout",
     "output_type": "stream",
     "text": [
      "+---------------------------+----+---+------+-----+\n",
      "|Offence Level 2 Description|Days|Day|Months|Month|\n",
      "+---------------------------+----+---+------+-----+\n",
      "|SERIOUS CRIMINAL TRESPASS  |5   |Fri|Jul   |7    |\n",
      "|SERIOUS CRIMINAL TRESPASS  |5   |Fri|Jul   |7    |\n",
      "|SERIOUS CRIMINAL TRESPASS  |5   |Fri|Jul   |7    |\n",
      "|SERIOUS CRIMINAL TRESPASS  |5   |Fri|Jul   |7    |\n",
      "|SERIOUS CRIMINAL TRESPASS  |5   |Fri|Jul   |7    |\n",
      "|SERIOUS CRIMINAL TRESPASS  |5   |Fri|Jul   |7    |\n",
      "|SERIOUS CRIMINAL TRESPASS  |5   |Fri|Jul   |7    |\n",
      "|SERIOUS CRIMINAL TRESPASS  |5   |Fri|Jul   |7    |\n",
      "|SERIOUS CRIMINAL TRESPASS  |5   |Fri|Jul   |7    |\n",
      "|SERIOUS CRIMINAL TRESPASS  |5   |Fri|Jul   |7    |\n",
      "|SERIOUS CRIMINAL TRESPASS  |5   |Fri|Jul   |7    |\n",
      "|SERIOUS CRIMINAL TRESPASS  |5   |Fri|Jul   |7    |\n",
      "|SERIOUS CRIMINAL TRESPASS  |5   |Fri|Jul   |7    |\n",
      "|SERIOUS CRIMINAL TRESPASS  |5   |Fri|Jul   |7    |\n",
      "|SERIOUS CRIMINAL TRESPASS  |5   |Fri|Jul   |7    |\n",
      "|SERIOUS CRIMINAL TRESPASS  |5   |Fri|Jul   |7    |\n",
      "|SERIOUS CRIMINAL TRESPASS  |5   |Fri|Jul   |7    |\n",
      "|SERIOUS CRIMINAL TRESPASS  |5   |Fri|Jul   |7    |\n",
      "|SERIOUS CRIMINAL TRESPASS  |5   |Fri|Jul   |7    |\n",
      "|SERIOUS CRIMINAL TRESPASS  |5   |Fri|Jul   |7    |\n",
      "+---------------------------+----+---+------+-----+\n",
      "only showing top 20 rows\n",
      "\n"
     ]
    }
   ],
   "source": [
    "# Filtered the crimes type of SERIOUS CRIMINAL TRESPASS in the dataframe \n",
    "filteredDF = newDayMonthDF.select(\"Offence Level 2 Description\",\"Days\", \"Day\", \"Months\", \"Month\")\\\n",
    "                .filter(newDayMonthDF[\"Offence Level 2 Description\"] == \"SERIOUS CRIMINAL TRESPASS\")\n",
    "filteredDF.show(20, False)"
   ]
  },
  {
   "cell_type": "code",
   "execution_count": 44,
   "metadata": {},
   "outputs": [],
   "source": [
    "# Groupby day and months to calculate the number of SERIOUS CRIMINAL TRESPASS\n",
    "dayDF = filteredDF.groupBy(\"Days\", \"Day\").count().sort(\"Days\")\n",
    "monthDF = filteredDF.groupBy(\"Months\", \"Month\").count().sort(\"Month\")"
   ]
  },
  {
   "cell_type": "code",
   "execution_count": 45,
   "metadata": {},
   "outputs": [
    {
     "data": {
      "image/png": "[encoded data removed]",
      "text/plain": [
       "<Figure size 720x576 with 2 Axes>"
      ]
     },
     "metadata": {},
     "output_type": "display_data"
    }
   ],
   "source": [
    "# Plotting the Pareto Chart\n",
    "dayList = dayDF.collect() #converting the dataframe to the list\n",
    "monthList = monthDF.collect() #converting the dataframe to the list\n",
    "\n",
    "xaxisObjMon = [row[\"Months\"] for row in monthList] #the data for x axis by Month\n",
    "yaxisMon = [row[\"count\"] for row in monthList] #the data for x axis by Month\n",
    "xaxisLenMon = np.arange(len(xaxisObjMon))\n",
    "\n",
    "xaxisObjDay = [row[\"Day\"] for row in dayList] #the data for x axis by Day\n",
    "yaxisDay = [row[\"count\"] for row in dayList] #the data for x axis by Day\n",
    "xaxisLenDay = np.arange(len(xaxisObjDay))\n",
    "\n",
    "fig, ax = plt.subplots(figsize = (10,8))\n",
    "ax.bar(xaxisObjMon, yaxisMon, color = \"#648CCE\", label = \"SERIOUS CRIMINAL TRESPASS by Month\") #creating the bar chart for month\n",
    "ax2 = ax.twiny()\n",
    "ax2.plot(xaxisObjDay, yaxisDay, \"o-\", color = \"#E94994\", label = \"SERIOUS CRIMINAL TRESPASS by Day\") #creating the line chart for day\n",
    "\n",
    "for x, y in zip(xaxisLenDay, yaxisDay):\n",
    "    ax2.text(x-0.25, y+300, \"%.0f\" %y)\n",
    "    \n",
    "for x, y in zip(xaxisLenMon, yaxisMon):\n",
    "    ax.text(x-0.25, y+250, \"%.0f\" %y)\n",
    "\n",
    "ax.tick_params(axis = \"x\", color = \"#648CCE\", labelcolor = \"#648CCE\")\n",
    "ax2.tick_params(axis = \"x\", color = \"#E94994\", labelcolor = \"#E94994\")\n",
    "\n",
    "ax.legend(loc = \"lower right\")\n",
    "ax2.legend(loc = \"upper right\")\n",
    "\n",
    "plt.show()"
   ]
  },
  {
   "cell_type": "markdown",
   "metadata": {},
   "source": [
    "<font size = \"3\"> \n",
    "The reason of using Pareto chart because it is easy to plot the three dimendions in the 2D graph. In this Pareto chart, the red line means the number of \"SERIOUS CRIMINAL TRESPASS\" in the different days, and the bar chart is the number of \"SERIOUS CRIMINAL TRESPASS\" during the particular months. It is easy to understand the crimes events occurrence in the differetn months and day in the specific crimes type which is \"SERIOUS CRIMINAL TRESPASS\".\n",
    "According to the Pareto chart demonstarts that the crimes type of \"SERIOUS CRIMINAL TRESPASS\" occurs in average from Jan to Dec. The number of \"SERIOUS CRIMINAL TRESPASS\" has not huge gap between these months which the higher number of \"SERIOUS CRIMINAL TRESPASS\" is 9753 in Oct which is close to Summer season, and the lower number of \"SERIOUS CRIMINAL TRESPASS\" is 7416 in Apr which is close to Winter season. In addition, the red line graph in the Pareto chart shows that the type of \"SERIOUS CRIMINAL TRESPASS\" has higher occurence on Monday which has 18101, and the lower point of \"SERIOUS CRIMINAL TRESPASS\" occurs on Saturday which the number of \"SERIOUS CRIMINAL TRESPASS\" occurrence is 12879.</font>"
   ]
  }
 ],
 "metadata": {
  "kernelspec": {
   "display_name": "Python 3",
   "language": "python",
   "name": "python3"
  },
  "language_info": {
   "codemirror_mode": {
    "name": "ipython",
    "version": 3
   },
   "file_extension": ".py",
   "mimetype": "text/x-python",
   "name": "python",
   "nbconvert_exporter": "python",
   "pygments_lexer": "ipython3",
   "version": "3.6.8"
  }
 },
 "nbformat": 4,
 "nbformat_minor": 2
}
